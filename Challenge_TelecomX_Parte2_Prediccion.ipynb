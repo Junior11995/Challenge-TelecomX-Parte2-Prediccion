{
  "nbformat": 4,
  "nbformat_minor": 0,
  "metadata": {
    "colab": {
      "provenance": []
    },
    "kernelspec": {
      "name": "python3",
      "display_name": "Python 3"
    },
    "language_info": {
      "name": "python"
    }
  },
  "cells": [
    {
      "cell_type": "markdown",
      "source": [
        "# Challenge TelecomX Parte2 Prediccion"
      ],
      "metadata": {
        "id": "HuURnb58d7Hc"
      }
    }
  ]
}