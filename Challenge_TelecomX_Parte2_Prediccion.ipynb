{
  "nbformat": 4,
  "nbformat_minor": 0,
  "metadata": {
    "colab": {
      "provenance": [],
      "authorship_tag": "ABX9TyOPTQRkErDBVDNsBd5RwTaO",
      "include_colab_link": true
    },
    "kernelspec": {
      "name": "python3",
      "display_name": "Python 3"
    },
    "language_info": {
      "name": "python"
    }
  },
  "cells": [
    {
      "cell_type": "markdown",
      "metadata": {
        "id": "view-in-github",
        "colab_type": "text"
      },
      "source": [
        "<a href=\"https://colab.research.google.com/github/Junior11995/Challenge-TelecomX-Parte2-Prediccion/blob/main/Challenge_TelecomX_Parte2_Prediccion.ipynb\" target=\"_parent\"><img src=\"https://colab.research.google.com/assets/colab-badge.svg\" alt=\"Open In Colab\"/></a>"
      ]
    },
    {
      "cell_type": "markdown",
      "source": [
        "# introducción\n",
        "\n",
        "# 📊 Challenge Telecom X - Parte 2: Predicción de Evasión de Clientes\n",
        "\n",
        "## 🎯 Introducción\n",
        "Este desafío forma parte de la segunda etapa del proyecto Telecom X.  \n",
        "En la Parte 1 trabajamos como analistas de datos explorando, limpiando y generando insights sobre la evasión de clientes (*churn*).  \n",
        "Ahora, en la Parte 2, nuestro rol es de **científicos de datos** y el objetivo principal es **construir modelos predictivos** que permitan anticipar qué clientes tienen mayor riesgo de cancelar los servicios.\n",
        "\n",
        "## 📌 Objetivos\n",
        "- Preparar y separar adecuadamente los datos para modelado (train/test).\n",
        "- Analizar correlaciones y seleccionar variables relevantes.\n",
        "- Aplicar conceptos de estadística y regresión lineal.\n",
        "- Entrenar y evaluar modelos de **Machine Learning de clasificación** para predecir el churn.\n",
        "- Identificar las variables que más influyen en la evasión.\n",
        "- Generar un informe con conclusiones y recomendaciones estratégicas para la empresa.\n",
        "\n",
        "## 🚀 Importancia\n",
        "Este desafío conecta la teoría con la práctica en un caso real de negocio.  \n",
        "Al final, entregaremos un **notebook claro y documentado** junto con un **repositorio en GitHub** que refleje cómo la ciencia de datos puede aplicarse para resolver problemas empresariales críticos.\n"
      ],
      "metadata": {
        "id": "HuURnb58d7Hc"
      }
    },
    {
      "cell_type": "code",
      "source": [],
      "metadata": {
        "id": "fxSXqP_ckQuh"
      },
      "execution_count": null,
      "outputs": []
    }
  ]
}